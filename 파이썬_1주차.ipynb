{
  "nbformat": 4,
  "nbformat_minor": 0,
  "metadata": {
    "colab": {
      "name": "파이썬 1주차.ipynb",
      "provenance": [],
      "include_colab_link": true
    },
    "kernelspec": {
      "name": "python3",
      "display_name": "Python 3"
    }
  },
  "cells": [
    {
      "cell_type": "markdown",
      "metadata": {
        "id": "view-in-github",
        "colab_type": "text"
      },
      "source": [
        "<a href=\"https://colab.research.google.com/github/chynews98/Crawling-python/blob/master/%ED%8C%8C%EC%9D%B4%EC%8D%AC_1%EC%A3%BC%EC%B0%A8.ipynb\" target=\"_parent\"><img src=\"https://colab.research.google.com/assets/colab-badge.svg\" alt=\"Open In Colab\"/></a>"
      ]
    },
    {
      "cell_type": "markdown",
      "metadata": {
        "id": "dT-n65qqiyIv",
        "colab_type": "text"
      },
      "source": [
        "# 파이썬 기초 문법\n",
        "\n",
        "\n",
        "\n",
        "##1. 변수\n",
        "\n",
        "변수는 '값'을 저장하는 상자라고 생각하면 됩니다.\n",
        "상자에 '값'을 넣어 놓고 언제든지 필요할 때 꺼내쓰기 위해 변수를 이용합니다.\n",
        "\n",
        "\n",
        "\n",
        "위에서 언급한 값은 정수,실수,문자 등 무엇이든지 될 수 있습니다.\n",
        "\n",
        "\n",
        "\n",
        "\n",
        "\n",
        "\n",
        "\n"
      ]
    },
    {
      "cell_type": "markdown",
      "metadata": {
        "id": "bFkhSgBmjso8",
        "colab_type": "text"
      },
      "source": [
        "변수의 이름은 영어로 시작하도록 합니다. \n",
        "ex) a, b, res \n",
        "\n",
        "* 숫자로 시작하면 안됩니다."
      ]
    },
    {
      "cell_type": "markdown",
      "metadata": {
        "id": "PTDp8JmVj_LX",
        "colab_type": "text"
      },
      "source": [
        "###아래 코드에 커서를 두고 Ctrl + Enter를 누르면 코드 실행\n"
      ]
    },
    {
      "cell_type": "markdown",
      "metadata": {
        "id": "_4J7TxvslU1Z",
        "colab_type": "text"
      },
      "source": [
        "정수(int) - 음의 정수, 0 , 양의 정수"
      ]
    },
    {
      "cell_type": "code",
      "metadata": {
        "id": "uOuaNFvhicpD",
        "colab_type": "code",
        "colab": {}
      },
      "source": [
        "a = 1  "
      ],
      "execution_count": 0,
      "outputs": []
    },
    {
      "cell_type": "markdown",
      "metadata": {
        "id": "4XsEkuoPlXQn",
        "colab_type": "text"
      },
      "source": [
        "실수(float) - 소수점이 포함된 값"
      ]
    },
    {
      "cell_type": "code",
      "metadata": {
        "id": "kK3ffjHFk8MC",
        "colab_type": "code",
        "colab": {}
      },
      "source": [
        "b = 3.1"
      ],
      "execution_count": 0,
      "outputs": []
    },
    {
      "cell_type": "markdown",
      "metadata": {
        "id": "HHZlBMmBlZqd",
        "colab_type": "text"
      },
      "source": [
        "문자열(str)"
      ]
    },
    {
      "cell_type": "code",
      "metadata": {
        "id": "-0j3OazmlGwQ",
        "colab_type": "code",
        "colab": {}
      },
      "source": [
        "name = '민수'"
      ],
      "execution_count": 0,
      "outputs": []
    },
    {
      "cell_type": "markdown",
      "metadata": {
        "id": "xOIP7cGhlxWD",
        "colab_type": "text"
      },
      "source": [
        "\n",
        "\n",
        "---\n",
        "\n",
        "\n",
        "\n",
        "'='(등호)은 수학에서 '동일하다'를 뜻하지만 프로그래밍에서는 대입(집어넣다)을 의미합니다."
      ]
    },
    {
      "cell_type": "code",
      "metadata": {
        "id": "d25JhNDjlgOB",
        "colab_type": "code",
        "colab": {}
      },
      "source": [
        "a = 1\n",
        "a = 3"
      ],
      "execution_count": 0,
      "outputs": []
    },
    {
      "cell_type": "code",
      "metadata": {
        "id": "uzm3_tjQmVxG",
        "colab_type": "code",
        "colab": {}
      },
      "source": [
        "print(a)"
      ],
      "execution_count": 0,
      "outputs": []
    },
    {
      "cell_type": "code",
      "metadata": {
        "id": "IkiIGFvHmbow",
        "colab_type": "code",
        "colab": {}
      },
      "source": [
        "b = 10\n",
        "b = 12.4"
      ],
      "execution_count": 0,
      "outputs": []
    },
    {
      "cell_type": "code",
      "metadata": {
        "id": "tkguuh0BmfLg",
        "colab_type": "code",
        "colab": {}
      },
      "source": [
        "print(b)"
      ],
      "execution_count": 0,
      "outputs": []
    },
    {
      "cell_type": "markdown",
      "metadata": {
        "id": "5kAMbJOhmiFn",
        "colab_type": "text"
      },
      "source": [
        "a와 b는 변수(상자)이며 정수를 넣어도 되고 실수를 넣어도 되고 전혀 상관없습니다."
      ]
    },
    {
      "cell_type": "code",
      "metadata": {
        "id": "GRIOFDYvmu01",
        "colab_type": "code",
        "colab": {}
      },
      "source": [
        ""
      ],
      "execution_count": 0,
      "outputs": []
    },
    {
      "cell_type": "markdown",
      "metadata": {
        "id": "kmOWV1c7m5Qn",
        "colab_type": "text"
      },
      "source": [
        "\n",
        "\n",
        "---\n",
        "숫자끼리 연산 가능\n"
      ]
    },
    {
      "cell_type": "code",
      "metadata": {
        "id": "8B1qnWHGnAXF",
        "colab_type": "code",
        "outputId": "4966a651-0b5f-415d-957d-7cc60bd30898",
        "colab": {
          "base_uri": "https://localhost:8080/",
          "height": 34
        }
      },
      "source": [
        "print(1+3)"
      ],
      "execution_count": 0,
      "outputs": [
        {
          "output_type": "stream",
          "text": [
            "4\n"
          ],
          "name": "stdout"
        }
      ]
    },
    {
      "cell_type": "code",
      "metadata": {
        "id": "x2ooKjFonCld",
        "colab_type": "code",
        "outputId": "f4e5a6ea-d4ea-4ff1-ec4d-799a83960ab6",
        "colab": {
          "base_uri": "https://localhost:8080/",
          "height": 34
        }
      },
      "source": [
        "print(1.4+2.1)"
      ],
      "execution_count": 0,
      "outputs": [
        {
          "output_type": "stream",
          "text": [
            "3.5\n"
          ],
          "name": "stdout"
        }
      ]
    },
    {
      "cell_type": "markdown",
      "metadata": {
        "id": "zoOMw1F-nLv6",
        "colab_type": "text"
      },
      "source": [
        "변수끼리 연산 가능"
      ]
    },
    {
      "cell_type": "code",
      "metadata": {
        "id": "b79WX50znFKL",
        "colab_type": "code",
        "outputId": "c500184c-9f89-499c-f0e9-0032ec4c82ef",
        "colab": {
          "base_uri": "https://localhost:8080/",
          "height": 34
        }
      },
      "source": [
        "a = 3\n",
        "b = 5\n",
        "\n",
        "print(a+b)"
      ],
      "execution_count": 0,
      "outputs": [
        {
          "output_type": "stream",
          "text": [
            "8\n"
          ],
          "name": "stdout"
        }
      ]
    },
    {
      "cell_type": "code",
      "metadata": {
        "id": "fYKnqw0-nTMM",
        "colab_type": "code",
        "outputId": "b17e18fa-9320-4788-af07-0241d3ba70e3",
        "colab": {
          "base_uri": "https://localhost:8080/",
          "height": 34
        }
      },
      "source": [
        "c = 3.14\n",
        "d = 5.29\n",
        "\n",
        "print(c+d)"
      ],
      "execution_count": 0,
      "outputs": [
        {
          "output_type": "stream",
          "text": [
            "8.43\n"
          ],
          "name": "stdout"
        }
      ]
    },
    {
      "cell_type": "markdown",
      "metadata": {
        "id": "Ik-cQCdLnhP4",
        "colab_type": "text"
      },
      "source": [
        "연산 후 대입 가능\n",
        "\n",
        "항상 등호(=)가 있을 때에는 등호 오른쪽의 연산을 마치고 그 결과를 왼쪽의 변수에 대입해줍니다.\n",
        "\n",
        "\n",
        "그래서 등호 왼쪽에는 무엇인가를 저장하는 변수(상자)만 올 수 있으며 숫자, 식이 올 수 없습니다. "
      ]
    },
    {
      "cell_type": "code",
      "metadata": {
        "id": "3XAuE7uanW4n",
        "colab_type": "code",
        "outputId": "ed081ada-a1f9-46f4-c944-8bdb8d806a40",
        "colab": {
          "base_uri": "https://localhost:8080/",
          "height": 34
        }
      },
      "source": [
        "e = a + b \n",
        "print(e)"
      ],
      "execution_count": 0,
      "outputs": [
        {
          "output_type": "stream",
          "text": [
            "8\n"
          ],
          "name": "stdout"
        }
      ]
    },
    {
      "cell_type": "markdown",
      "metadata": {
        "id": "cvncpCOgoHPc",
        "colab_type": "text"
      },
      "source": [
        "---\n",
        "\n",
        "##2. 사칙 연산\n",
        "\n",
        "덧셈\n",
        "\n"
      ]
    },
    {
      "cell_type": "code",
      "metadata": {
        "id": "4slVFlRincOs",
        "colab_type": "code",
        "outputId": "27772825-cede-4848-b683-f95eb6ecfed8",
        "colab": {
          "base_uri": "https://localhost:8080/",
          "height": 34
        }
      },
      "source": [
        "a = 3 \n",
        "b = 10\n",
        "\n",
        "print(a+b)"
      ],
      "execution_count": 0,
      "outputs": [
        {
          "output_type": "stream",
          "text": [
            "13\n"
          ],
          "name": "stdout"
        }
      ]
    },
    {
      "cell_type": "markdown",
      "metadata": {
        "id": "8qSiTx9yoUso",
        "colab_type": "text"
      },
      "source": [
        "뺄셈"
      ]
    },
    {
      "cell_type": "code",
      "metadata": {
        "id": "PLlzUanJoThP",
        "colab_type": "code",
        "colab": {}
      },
      "source": [
        ""
      ],
      "execution_count": 0,
      "outputs": []
    },
    {
      "cell_type": "markdown",
      "metadata": {
        "id": "9908FwTmoWDy",
        "colab_type": "text"
      },
      "source": [
        "곱셈"
      ]
    },
    {
      "cell_type": "code",
      "metadata": {
        "id": "Stpuzu6QoXAY",
        "colab_type": "code",
        "colab": {}
      },
      "source": [
        ""
      ],
      "execution_count": 0,
      "outputs": []
    },
    {
      "cell_type": "markdown",
      "metadata": {
        "id": "BBFIoxAToXWF",
        "colab_type": "text"
      },
      "source": [
        "나눗셈"
      ]
    },
    {
      "cell_type": "code",
      "metadata": {
        "id": "ypX4Vl_uoYS0",
        "colab_type": "code",
        "colab": {}
      },
      "source": [
        ""
      ],
      "execution_count": 0,
      "outputs": []
    },
    {
      "cell_type": "markdown",
      "metadata": {
        "id": "69kou9DLoYly",
        "colab_type": "text"
      },
      "source": [
        "나눗셈의 몫"
      ]
    },
    {
      "cell_type": "code",
      "metadata": {
        "id": "WaVNstjOob1E",
        "colab_type": "code",
        "colab": {}
      },
      "source": [
        ""
      ],
      "execution_count": 0,
      "outputs": []
    },
    {
      "cell_type": "markdown",
      "metadata": {
        "id": "toEwe5rkocDX",
        "colab_type": "text"
      },
      "source": [
        "나눗셈의 나머지"
      ]
    },
    {
      "cell_type": "code",
      "metadata": {
        "id": "oB0CmCfKoc9b",
        "colab_type": "code",
        "colab": {}
      },
      "source": [
        ""
      ],
      "execution_count": 0,
      "outputs": []
    },
    {
      "cell_type": "markdown",
      "metadata": {
        "id": "CHNzXpyFodZd",
        "colab_type": "text"
      },
      "source": [
        "제곱"
      ]
    },
    {
      "cell_type": "code",
      "metadata": {
        "id": "1ryt5emBoePO",
        "colab_type": "code",
        "colab": {}
      },
      "source": [
        ""
      ],
      "execution_count": 0,
      "outputs": []
    },
    {
      "cell_type": "markdown",
      "metadata": {
        "id": "-zj3_Qg2onwI",
        "colab_type": "text"
      },
      "source": [
        "----\n",
        "\n",
        "##3. 문자열 연산\n",
        "\n",
        "\n",
        "str(문자열)도 몇 가지 연산 기호를 이용하여 연산이 가능합니다.\n",
        "\n",
        "문자열 더하기"
      ]
    },
    {
      "cell_type": "code",
      "metadata": {
        "id": "gFnvEL8conKl",
        "colab_type": "code",
        "outputId": "75803791-f292-436e-bb5c-1cf050bd0615",
        "colab": {
          "base_uri": "https://localhost:8080/",
          "height": 34
        }
      },
      "source": [
        "print('성준' + '이름')"
      ],
      "execution_count": 0,
      "outputs": [
        {
          "output_type": "stream",
          "text": [
            "성준이름\n"
          ],
          "name": "stdout"
        }
      ]
    },
    {
      "cell_type": "code",
      "metadata": {
        "id": "127TU5_jpO9C",
        "colab_type": "code",
        "outputId": "9d6f18eb-43a7-40f4-98bb-85bf7316ffd1",
        "colab": {
          "base_uri": "https://localhost:8080/",
          "height": 34
        }
      },
      "source": [
        "a = '성준'\n",
        "b = '이름'\n",
        "\n",
        "print(a+b)"
      ],
      "execution_count": 0,
      "outputs": [
        {
          "output_type": "stream",
          "text": [
            "성준이름\n"
          ],
          "name": "stdout"
        }
      ]
    },
    {
      "cell_type": "markdown",
      "metadata": {
        "id": "LZbyBKkdpU7v",
        "colab_type": "text"
      },
      "source": [
        "'+' 앞 뒤가 숫자이면 둘을 더하지만\n",
        "\n",
        "앞 뒤가 문자열이면 둘을 이어줍니다.\n",
        "\n",
        "하지만 하나는 숫자, 하나는 문자열이면 오류가 생깁니다."
      ]
    },
    {
      "cell_type": "code",
      "metadata": {
        "id": "ExYQT-afpT-j",
        "colab_type": "code",
        "outputId": "c74b04a1-7892-4819-e866-3910ba63b7be",
        "colab": {
          "base_uri": "https://localhost:8080/",
          "height": 169
        }
      },
      "source": [
        "print(3+'성준')"
      ],
      "execution_count": 0,
      "outputs": [
        {
          "output_type": "error",
          "ename": "TypeError",
          "evalue": "ignored",
          "traceback": [
            "\u001b[0;31m---------------------------------------------------------------------------\u001b[0m",
            "\u001b[0;31mTypeError\u001b[0m                                 Traceback (most recent call last)",
            "\u001b[0;32m<ipython-input-17-0dc5552bc6ad>\u001b[0m in \u001b[0;36m<module>\u001b[0;34m()\u001b[0m\n\u001b[0;32m----> 1\u001b[0;31m \u001b[0mprint\u001b[0m\u001b[0;34m(\u001b[0m\u001b[0;36m3\u001b[0m\u001b[0;34m+\u001b[0m\u001b[0;34m'성준'\u001b[0m\u001b[0;34m)\u001b[0m\u001b[0;34m\u001b[0m\u001b[0;34m\u001b[0m\u001b[0m\n\u001b[0m",
            "\u001b[0;31mTypeError\u001b[0m: unsupported operand type(s) for +: 'int' and 'str'"
          ]
        }
      ]
    },
    {
      "cell_type": "markdown",
      "metadata": {
        "id": "WRcgvVT6puYV",
        "colab_type": "text"
      },
      "source": [
        "문자열 곱하기\n"
      ]
    },
    {
      "cell_type": "code",
      "metadata": {
        "id": "9ThlZTNJpjJa",
        "colab_type": "code",
        "outputId": "47bbfb95-f10d-4c7e-d452-38314d7dd2c1",
        "colab": {
          "base_uri": "https://localhost:8080/",
          "height": 34
        }
      },
      "source": [
        "print('성준' * 3)"
      ],
      "execution_count": 0,
      "outputs": [
        {
          "output_type": "stream",
          "text": [
            "성준성준성준\n"
          ],
          "name": "stdout"
        }
      ]
    },
    {
      "cell_type": "code",
      "metadata": {
        "id": "WnPvC11zp7Tb",
        "colab_type": "code",
        "outputId": "ad2f0de2-5b9b-4eea-9263-313dfb31bec1",
        "colab": {
          "base_uri": "https://localhost:8080/",
          "height": 34
        }
      },
      "source": [
        "a = '성준'\n",
        "\n",
        "print(a * 10)"
      ],
      "execution_count": 0,
      "outputs": [
        {
          "output_type": "stream",
          "text": [
            "성준성준성준성준성준성준성준성준성준성준\n"
          ],
          "name": "stdout"
        }
      ]
    },
    {
      "cell_type": "markdown",
      "metadata": {
        "id": "AEjrLQD2r6fP",
        "colab_type": "text"
      },
      "source": [
        "####Q. '탈잉'이 10번 출력되고 '파이썬'이 5번 출력되게 하세요.\n",
        "\n",
        "<출력 결과>\n",
        "탈잉탈잉탈잉탈잉탈잉탈잉탈잉탈잉탈잉탈잉파이썬파이썬파이썬파이썬파이썬"
      ]
    },
    {
      "cell_type": "code",
      "metadata": {
        "id": "NgGIwwpJr-kf",
        "colab_type": "code",
        "colab": {}
      },
      "source": [
        ""
      ],
      "execution_count": 0,
      "outputs": []
    },
    {
      "cell_type": "markdown",
      "metadata": {
        "id": "S9olRSchqecY",
        "colab_type": "text"
      },
      "source": [
        "---\n",
        "\n",
        "##4-1. 자료형\n",
        "\n",
        "* int (정수형)\n",
        "* float (실수형)\n",
        "* str (문자열)\n"
      ]
    },
    {
      "cell_type": "code",
      "metadata": {
        "id": "ZDzo4vkHqAGo",
        "colab_type": "code",
        "outputId": "66de4164-4c5f-414f-8b86-c6e88f5adc7c",
        "colab": {
          "base_uri": "https://localhost:8080/",
          "height": 34
        }
      },
      "source": [
        "a = 10\n",
        "\n",
        "print(type(a))"
      ],
      "execution_count": 0,
      "outputs": [
        {
          "output_type": "stream",
          "text": [
            "<class 'int'>\n"
          ],
          "name": "stdout"
        }
      ]
    },
    {
      "cell_type": "code",
      "metadata": {
        "id": "jUnWf10fqqjq",
        "colab_type": "code",
        "outputId": "71450e70-cf2e-4b13-962a-53a29e572380",
        "colab": {
          "base_uri": "https://localhost:8080/",
          "height": 34
        }
      },
      "source": [
        "b = 10.4\n",
        "\n",
        "print(type(b))"
      ],
      "execution_count": 0,
      "outputs": [
        {
          "output_type": "stream",
          "text": [
            "<class 'float'>\n"
          ],
          "name": "stdout"
        }
      ]
    },
    {
      "cell_type": "code",
      "metadata": {
        "id": "gqsDP02_quLl",
        "colab_type": "code",
        "outputId": "10ac123a-e005-4b12-d533-7e652bdd6e26",
        "colab": {
          "base_uri": "https://localhost:8080/",
          "height": 34
        }
      },
      "source": [
        "c = '성준'\n",
        "\n",
        "print(type(c))"
      ],
      "execution_count": 0,
      "outputs": [
        {
          "output_type": "stream",
          "text": [
            "<class 'str'>\n"
          ],
          "name": "stdout"
        }
      ]
    },
    {
      "cell_type": "markdown",
      "metadata": {
        "id": "WxqJt_cJq7IY",
        "colab_type": "text"
      },
      "source": [
        "##4-2. 자료형 변환"
      ]
    },
    {
      "cell_type": "code",
      "metadata": {
        "id": "QHGQaaE7qxW0",
        "colab_type": "code",
        "outputId": "0d63e526-dbb3-4095-e57f-b47b544d2ee3",
        "colab": {
          "base_uri": "https://localhost:8080/",
          "height": 52
        }
      },
      "source": [
        "a = 10.5\n",
        "\n",
        "a = int(a)\n",
        "\n",
        "print(a)\n",
        "print(type(a))"
      ],
      "execution_count": 0,
      "outputs": [
        {
          "output_type": "stream",
          "text": [
            "10\n",
            "<class 'int'>\n"
          ],
          "name": "stdout"
        }
      ]
    },
    {
      "cell_type": "markdown",
      "metadata": {
        "id": "9H95QxW6rKtf",
        "colab_type": "text"
      },
      "source": [
        "####Q. 정수형 변수 a와 b를 각각 실수형으로 변환하고 더하세요"
      ]
    },
    {
      "cell_type": "code",
      "metadata": {
        "id": "6_qmWonXrIVs",
        "colab_type": "code",
        "colab": {}
      },
      "source": [
        ""
      ],
      "execution_count": 0,
      "outputs": []
    },
    {
      "cell_type": "markdown",
      "metadata": {
        "id": "1nx_pjJ7sQic",
        "colab_type": "text"
      },
      "source": [
        "\n",
        "---\n",
        "\n",
        "##5. 문자열 가지고 놀기\n",
        "\n",
        "len() - 문자열의 길이를 구해줍니다."
      ]
    },
    {
      "cell_type": "code",
      "metadata": {
        "id": "D934SZDPsN0c",
        "colab_type": "code",
        "colab": {}
      },
      "source": [
        "word = '파이썬은 재밌다'\n",
        "\n"
      ],
      "execution_count": 0,
      "outputs": []
    },
    {
      "cell_type": "markdown",
      "metadata": {
        "id": "8fEJerbts6G3",
        "colab_type": "text"
      },
      "source": [
        "---\n",
        "\n",
        "문자열 인덱스(순서)\n",
        "\n",
        "인덱스 : 순번\n",
        "\n",
        "인덱스는 0부터 시작 (첫번째 글자의 인덱스는 0)\n",
        "\n"
      ]
    },
    {
      "cell_type": "code",
      "metadata": {
        "id": "3WIQq3iXszLB",
        "colab_type": "code",
        "outputId": "43413486-ab06-46fa-8888-12a9fc28cf84",
        "colab": {
          "base_uri": "https://localhost:8080/",
          "height": 34
        }
      },
      "source": [
        "word = '파이썬은 재밌다'\n",
        "\n",
        "print(word[0])"
      ],
      "execution_count": 0,
      "outputs": [
        {
          "output_type": "stream",
          "text": [
            "파\n"
          ],
          "name": "stdout"
        }
      ]
    },
    {
      "cell_type": "markdown",
      "metadata": {
        "id": "va_uRf8ItY8z",
        "colab_type": "text"
      },
      "source": [
        "####Q. 마지막 순번의 글자를 인덱스를 이용하여 구하세요"
      ]
    },
    {
      "cell_type": "code",
      "metadata": {
        "id": "eOyfZ2jKtWLW",
        "colab_type": "code",
        "colab": {}
      },
      "source": [
        "word = '파이썬은 재밌다'\n",
        "\n"
      ],
      "execution_count": 0,
      "outputs": []
    },
    {
      "cell_type": "markdown",
      "metadata": {
        "id": "Dl5uD_dvteDR",
        "colab_type": "text"
      },
      "source": [
        "인덱스는 음수가 될 수도 있습니다.\n",
        "\n"
      ]
    },
    {
      "cell_type": "code",
      "metadata": {
        "id": "N4birRtQtfcB",
        "colab_type": "code",
        "outputId": "1be5f63e-a573-4aa2-b2ca-0ce5b7c9a49a",
        "colab": {
          "base_uri": "https://localhost:8080/",
          "height": 34
        }
      },
      "source": [
        "print(word[-1])"
      ],
      "execution_count": 0,
      "outputs": [
        {
          "output_type": "stream",
          "text": [
            "다\n"
          ],
          "name": "stdout"
        }
      ]
    },
    {
      "cell_type": "markdown",
      "metadata": {
        "id": "6buUktObt2BD",
        "colab_type": "text"
      },
      "source": [
        "---\n",
        "\n",
        "문자열 슬라이스\n",
        "\n",
        "문자열을 원하는 부분만큼 자르는 것을 의미합니다.\n",
        "\n",
        "변수명[시작순번:원하는 순번+1] 을 꼭 지켜야 합니다\n"
      ]
    },
    {
      "cell_type": "code",
      "metadata": {
        "id": "dcYjfEomtpte",
        "colab_type": "code",
        "outputId": "246b8b0c-9861-46de-8328-c3be236c70f5",
        "colab": {
          "base_uri": "https://localhost:8080/",
          "height": 34
        }
      },
      "source": [
        "a = '이불 밖은 위험해'\n",
        "\n",
        "print(a[0:2])"
      ],
      "execution_count": 0,
      "outputs": [
        {
          "output_type": "stream",
          "text": [
            "이불\n"
          ],
          "name": "stdout"
        }
      ]
    },
    {
      "cell_type": "markdown",
      "metadata": {
        "id": "LybIBHrUumD5",
        "colab_type": "text"
      },
      "source": [
        "####Q. '위험해' 만 출력해봅시다."
      ]
    },
    {
      "cell_type": "code",
      "metadata": {
        "id": "E-8ZceMnueKz",
        "colab_type": "code",
        "colab": {}
      },
      "source": [
        "a = '이불 밖은 위험해'\n"
      ],
      "execution_count": 0,
      "outputs": []
    },
    {
      "cell_type": "markdown",
      "metadata": {
        "id": "yk_b__aovJIn",
        "colab_type": "text"
      },
      "source": [
        "슬라이싱 할때 인덱스를 생략해봅니다.\n",
        "\n",
        "시작 인덱스 생략시 -> 0번째 부터 슬라이싱\n",
        "끝 인덱스 생략시 -> 끝까지 슬라이싱"
      ]
    },
    {
      "cell_type": "code",
      "metadata": {
        "id": "JI-lci9Qu3h5",
        "colab_type": "code",
        "outputId": "fda46e2b-15de-4a29-e889-4d01914973dc",
        "colab": {
          "base_uri": "https://localhost:8080/",
          "height": 52
        }
      },
      "source": [
        "print(a[:2])\n",
        "print(a[6:])"
      ],
      "execution_count": 0,
      "outputs": [
        {
          "output_type": "stream",
          "text": [
            "이불\n",
            "위험해\n"
          ],
          "name": "stdout"
        }
      ]
    },
    {
      "cell_type": "markdown",
      "metadata": {
        "id": "Egh7mHOdvc9m",
        "colab_type": "text"
      },
      "source": [
        "---\n",
        "\n",
        "## 6. 기본 자료 구조\n",
        "\n",
        "* 리스트\n",
        "* 딕셔너리\n"
      ]
    },
    {
      "cell_type": "markdown",
      "metadata": {
        "id": "XeCel1ydvy_3",
        "colab_type": "text"
      },
      "source": [
        "리스트는 변수들의 모음이라고 생각하면 됩니다.\n",
        "\n",
        "리스트의 특징\n",
        "1. 순서(인덱스)가 존재\n",
        "2. 값 수정 가능\n",
        "3. 인덱스로 읽기 가능\n",
        "\n",
        "\n",
        "\n"
      ]
    },
    {
      "cell_type": "markdown",
      "metadata": {
        "id": "8ZitnoIJUbVp",
        "colab_type": "text"
      },
      "source": [
        "####a-1. 리스트 인덱스"
      ]
    },
    {
      "cell_type": "code",
      "metadata": {
        "id": "bnygVkAMTDyk",
        "colab_type": "code",
        "outputId": "46db0e71-a62e-4c6e-c534-f9c39f24a5c3",
        "colab": {
          "base_uri": "https://localhost:8080/",
          "height": 35
        }
      },
      "source": [
        "a = [10, 20, 30]\n",
        "\n",
        "print(type(a))"
      ],
      "execution_count": 0,
      "outputs": [
        {
          "output_type": "stream",
          "text": [
            "<class 'list'>\n"
          ],
          "name": "stdout"
        }
      ]
    },
    {
      "cell_type": "code",
      "metadata": {
        "id": "W3J3n-r5UqLQ",
        "colab_type": "code",
        "outputId": "865ab5e5-2632-4512-b86a-2ee14f5baeae",
        "colab": {
          "base_uri": "https://localhost:8080/",
          "height": 35
        }
      },
      "source": [
        "name = ['조성준','아이린','강동원']\n",
        "\n",
        "print(name[0])"
      ],
      "execution_count": 0,
      "outputs": [
        {
          "output_type": "stream",
          "text": [
            "조성준\n"
          ],
          "name": "stdout"
        }
      ]
    },
    {
      "cell_type": "markdown",
      "metadata": {
        "id": "z0SI0U42UwrB",
        "colab_type": "text"
      },
      "source": [
        "Q. 리스트 인덱스를 이용하여 아이린만 출력해봅시다\n"
      ]
    },
    {
      "cell_type": "code",
      "metadata": {
        "id": "recdPj4hUyxL",
        "colab_type": "code",
        "colab": {}
      },
      "source": [
        ""
      ],
      "execution_count": 0,
      "outputs": []
    },
    {
      "cell_type": "markdown",
      "metadata": {
        "id": "cdhT5BelXj35",
        "colab_type": "text"
      },
      "source": [
        "####a-2. 리스트 내부 리스트, 문자열의 인덱스\n",
        "\n",
        "리스트와 문자열은 성질이 매우 비슷합니다.\n",
        "둘 다 인덱싱, 슬라이스가 가능하다는 공통점이 있습니다."
      ]
    },
    {
      "cell_type": "code",
      "metadata": {
        "id": "PpbkNgFtX3Lu",
        "colab_type": "code",
        "outputId": "ad33de99-e31d-4299-d050-14e0fbc8f7d7",
        "colab": {
          "base_uri": "https://localhost:8080/",
          "height": 35
        }
      },
      "source": [
        "a = [10,20, [2, 'C언어', '파이썬']]\n",
        "\n",
        "\n",
        "# 파이썬만 출력하세요\n"
      ],
      "execution_count": 0,
      "outputs": [
        {
          "output_type": "execute_result",
          "data": {
            "text/plain": [
              "'파이썬'"
            ]
          },
          "metadata": {
            "tags": []
          },
          "execution_count": 10
        }
      ]
    },
    {
      "cell_type": "markdown",
      "metadata": {
        "id": "_k0OgjY-YYuE",
        "colab_type": "text"
      },
      "source": [
        "Q. 'C언어'를 출력하세요."
      ]
    },
    {
      "cell_type": "code",
      "metadata": {
        "id": "2sz2Iy-1YfX3",
        "colab_type": "code",
        "colab": {}
      },
      "source": [
        ""
      ],
      "execution_count": 0,
      "outputs": []
    },
    {
      "cell_type": "markdown",
      "metadata": {
        "id": "K4MD-fXaYUzj",
        "colab_type": "text"
      },
      "source": [
        "Q. 파이썬의 '썬'만 출력하세요"
      ]
    },
    {
      "cell_type": "code",
      "metadata": {
        "id": "9n_cvmLhYHAN",
        "colab_type": "code",
        "colab": {}
      },
      "source": [
        ""
      ],
      "execution_count": 0,
      "outputs": []
    },
    {
      "cell_type": "markdown",
      "metadata": {
        "id": "RfVdJxw4VbHm",
        "colab_type": "text"
      },
      "source": [
        "####b. 리스트 슬라이스\n",
        "\n",
        "리스트명[시작인덱스:원하는인덱스+1]"
      ]
    },
    {
      "cell_type": "code",
      "metadata": {
        "id": "Pz9Bn3SOVdf3",
        "colab_type": "code",
        "outputId": "33118b29-7387-4c60-9aeb-addbce266ab3",
        "colab": {
          "base_uri": "https://localhost:8080/",
          "height": 35
        }
      },
      "source": [
        "a = [1,2,3,4,5,6,7,8,9]\n",
        "\n",
        "# 0번부터 1번 포함 슬라이스 하려면?\n",
        "a[0:2]"
      ],
      "execution_count": 0,
      "outputs": [
        {
          "output_type": "execute_result",
          "data": {
            "text/plain": [
              "[1, 2]"
            ]
          },
          "metadata": {
            "tags": []
          },
          "execution_count": 3
        }
      ]
    },
    {
      "cell_type": "code",
      "metadata": {
        "id": "dNkYpJ8HVsOQ",
        "colab_type": "code",
        "outputId": "43f65481-c39a-4128-8c34-0fbcba07a86e",
        "colab": {
          "base_uri": "https://localhost:8080/",
          "height": 35
        }
      },
      "source": [
        "# 시작인덱스가 0이라면 생략 가능\n",
        "\n",
        "a[:2]"
      ],
      "execution_count": 0,
      "outputs": [
        {
          "output_type": "execute_result",
          "data": {
            "text/plain": [
              "[1, 2]"
            ]
          },
          "metadata": {
            "tags": []
          },
          "execution_count": 4
        }
      ]
    },
    {
      "cell_type": "code",
      "metadata": {
        "id": "-TzQmxgIV4ZH",
        "colab_type": "code",
        "outputId": "0a868980-4e81-4b2e-d32b-126cc43360e0",
        "colab": {
          "base_uri": "https://localhost:8080/",
          "height": 35
        }
      },
      "source": [
        "# 마지막 인덱스까지 하려한다면 생략가능\n",
        "\n",
        "a[0:]"
      ],
      "execution_count": 0,
      "outputs": [
        {
          "output_type": "execute_result",
          "data": {
            "text/plain": [
              "[1, 2, 3, 4, 5, 6, 7, 8, 9]"
            ]
          },
          "metadata": {
            "tags": []
          },
          "execution_count": 5
        }
      ]
    },
    {
      "cell_type": "markdown",
      "metadata": {
        "id": "_87izD_NVzSk",
        "colab_type": "text"
      },
      "source": [
        "Q.2번부터 4번 포함 슬라이스 하려면?"
      ]
    },
    {
      "cell_type": "code",
      "metadata": {
        "id": "EN9RqL9NVvic",
        "colab_type": "code",
        "colab": {}
      },
      "source": [
        ""
      ],
      "execution_count": 0,
      "outputs": []
    },
    {
      "cell_type": "markdown",
      "metadata": {
        "id": "fCtAT6FbV1vx",
        "colab_type": "text"
      },
      "source": [
        "Q. 4번부터 끝까지 슬라이스하려면?"
      ]
    },
    {
      "cell_type": "code",
      "metadata": {
        "id": "OIzPDq99Vx-X",
        "colab_type": "code",
        "colab": {}
      },
      "source": [
        ""
      ],
      "execution_count": 0,
      "outputs": []
    },
    {
      "cell_type": "markdown",
      "metadata": {
        "id": "OIFf_m0AWJW6",
        "colab_type": "text"
      },
      "source": [
        "####c. 리스트 슬라이스 증감폭\n",
        "\n",
        "리스트명[  :  :  ]\n",
        "\n",
        "리스트명[시작인덱스:원하는인덱스+1:증감폭]"
      ]
    },
    {
      "cell_type": "code",
      "metadata": {
        "id": "F1szeQqOWNXE",
        "colab_type": "code",
        "outputId": "9ff75dee-6726-4734-952d-d188a250966b",
        "colab": {
          "base_uri": "https://localhost:8080/",
          "height": 35
        }
      },
      "source": [
        "a = [1,2,3,4,5,6,7,8,9]\n",
        "\n",
        "# 전체 다 가져오기 (증감폭 = 1)\n",
        "\n",
        "print(a[::1])"
      ],
      "execution_count": 0,
      "outputs": [
        {
          "output_type": "stream",
          "text": [
            "[1, 2, 3, 4, 5, 6, 7, 8, 9]\n"
          ],
          "name": "stdout"
        }
      ]
    },
    {
      "cell_type": "code",
      "metadata": {
        "id": "sCp2pJLGWehU",
        "colab_type": "code",
        "outputId": "d0cd506e-7965-47b0-c72c-87cef40fe838",
        "colab": {
          "base_uri": "https://localhost:8080/",
          "height": 35
        }
      },
      "source": [
        "print(a[::])  # 생략 가능"
      ],
      "execution_count": 0,
      "outputs": [
        {
          "output_type": "stream",
          "text": [
            "[1, 2, 3, 4, 5, 6, 7, 8, 9]\n"
          ],
          "name": "stdout"
        }
      ]
    },
    {
      "cell_type": "code",
      "metadata": {
        "id": "3MqJJrgDWgzq",
        "colab_type": "code",
        "outputId": "5899958d-500d-4996-d2a0-c8b48a34c579",
        "colab": {
          "base_uri": "https://localhost:8080/",
          "height": 35
        }
      },
      "source": [
        "# 한 개씩 건너뛰기 (증감폭 = 2)\n",
        "\n",
        "print(a[::2])"
      ],
      "execution_count": 0,
      "outputs": [
        {
          "output_type": "stream",
          "text": [
            "[1, 3, 5, 7, 9]\n"
          ],
          "name": "stdout"
        }
      ]
    },
    {
      "cell_type": "markdown",
      "metadata": {
        "id": "Iu7n6xcLWsPD",
        "colab_type": "text"
      },
      "source": [
        "Q. 짝수만 슬라이스 해봅시다"
      ]
    },
    {
      "cell_type": "code",
      "metadata": {
        "id": "rJxF8ogdWoP-",
        "colab_type": "code",
        "colab": {}
      },
      "source": [
        ""
      ],
      "execution_count": 0,
      "outputs": []
    },
    {
      "cell_type": "markdown",
      "metadata": {
        "id": "LmMdbH9xWwA-",
        "colab_type": "text"
      },
      "source": [
        "Q. 3의 배수만 슬라이스 해봅시다."
      ]
    },
    {
      "cell_type": "code",
      "metadata": {
        "id": "tT5swiCrWyFO",
        "colab_type": "code",
        "colab": {}
      },
      "source": [
        ""
      ],
      "execution_count": 0,
      "outputs": []
    },
    {
      "cell_type": "markdown",
      "metadata": {
        "id": "1qE0_TuKXECS",
        "colab_type": "text"
      },
      "source": [
        "#### d. 리스트 길이 구하기 (len)"
      ]
    },
    {
      "cell_type": "code",
      "metadata": {
        "id": "woAg1sZsXDgH",
        "colab_type": "code",
        "outputId": "ac90b32c-3995-4444-87b3-c6feaf7995ef",
        "colab": {
          "base_uri": "https://localhost:8080/",
          "height": 35
        }
      },
      "source": [
        "a = [1,2,3,4,5,6,7,8,9]\n",
        "\n",
        "len(a)"
      ],
      "execution_count": 0,
      "outputs": [
        {
          "output_type": "execute_result",
          "data": {
            "text/plain": [
              "9"
            ]
          },
          "metadata": {
            "tags": []
          },
          "execution_count": 9
        }
      ]
    },
    {
      "cell_type": "markdown",
      "metadata": {
        "id": "bQJqqnoYXQLv",
        "colab_type": "text"
      },
      "source": [
        "Q. a 리스트를 2의 배수만 슬라이스 한 후 그 결과의 길이를 재보세요."
      ]
    },
    {
      "cell_type": "code",
      "metadata": {
        "id": "9SvCFMx4XOd8",
        "colab_type": "code",
        "colab": {}
      },
      "source": [
        ""
      ],
      "execution_count": 0,
      "outputs": []
    },
    {
      "cell_type": "markdown",
      "metadata": {
        "id": "pcplAbJnYmSn",
        "colab_type": "text"
      },
      "source": [
        "#### e. 리스트의 값 추가, 제거\n",
        "\n",
        "이미 존재하는 리스트에 중간에 값을 추가하거나 제거합니다."
      ]
    },
    {
      "cell_type": "markdown",
      "metadata": {
        "id": "ymMyEJRzYvY9",
        "colab_type": "text"
      },
      "source": [
        "##### 추가 \n",
        "\n",
        "* 사용법:\n",
        "  리스트명.append(값)\n",
        "\n",
        "* 결과:\n",
        "  값이 마지막 인덱스로 들어감."
      ]
    },
    {
      "cell_type": "code",
      "metadata": {
        "id": "FRFYd39XY5Go",
        "colab_type": "code",
        "outputId": "a68e7c2d-000d-4883-bc81-318498cc9ed8",
        "colab": {
          "base_uri": "https://localhost:8080/",
          "height": 35
        }
      },
      "source": [
        "a = ['딸기', '레몬', '오렌지']\n",
        "\n",
        "a.append('두리안')\n",
        "print(a)"
      ],
      "execution_count": 0,
      "outputs": [
        {
          "output_type": "stream",
          "text": [
            "['딸기', '레몬', '오렌지', '두리안']\n"
          ],
          "name": "stdout"
        }
      ]
    },
    {
      "cell_type": "markdown",
      "metadata": {
        "id": "qnTjyBA1Y0fn",
        "colab_type": "text"
      },
      "source": [
        "##### 제거\n",
        "\n",
        "* 사용법:\n",
        "  리스트명.remove(값)\n",
        "\n",
        "* 결과:\n",
        "  선행 인덱스의 값을 제거"
      ]
    },
    {
      "cell_type": "code",
      "metadata": {
        "id": "Xx7GqXlYYo4J",
        "colab_type": "code",
        "outputId": "113f902b-64c8-4d97-d6b9-8cf732a21fc1",
        "colab": {
          "base_uri": "https://localhost:8080/",
          "height": 35
        }
      },
      "source": [
        "a.remove('레몬')\n",
        "\n",
        "print(a)"
      ],
      "execution_count": 0,
      "outputs": [
        {
          "output_type": "stream",
          "text": [
            "['딸기', '오렌지', '두리안']\n"
          ],
          "name": "stdout"
        }
      ]
    },
    {
      "cell_type": "markdown",
      "metadata": {
        "id": "uGGw_Bn4ZplD",
        "colab_type": "text"
      },
      "source": [
        "---\n",
        "\n",
        "####딕셔너리(Dictionary)\n",
        "\n",
        "* 형식 :\n",
        "  딕셔너리이름 = {'key값1':'value값1', 'key값2':'value값2', 'key값3':'value값3', ...}\n",
        "\n",
        "* 딕셔너리의 특징\n",
        "\n",
        "\n",
        "            1.key값과 value값의 쌍 형태\n",
        "\n",
        "            2.인덱스(순번)을 가지지 않음\n",
        "\n",
        "            3.인덱스 대신 key값으로 value를 불러옴\n",
        "\n",
        "            4.수정 가능"
      ]
    },
    {
      "cell_type": "code",
      "metadata": {
        "id": "dnol1GbpZIl7",
        "colab_type": "code",
        "colab": {}
      },
      "source": [
        "eng_dic = {'orange':'오렌지' , 'strawberry':'딸기', 'apple':'사과'}"
      ],
      "execution_count": 0,
      "outputs": []
    },
    {
      "cell_type": "markdown",
      "metadata": {
        "id": "6KMIJenMQwQY",
        "colab_type": "text"
      },
      "source": [
        "####a-1. 딕셔너리 값 추가"
      ]
    },
    {
      "cell_type": "code",
      "metadata": {
        "id": "pPzWTcgkRPwX",
        "colab_type": "code",
        "outputId": "9bba983b-681b-48e0-acd4-4c0f1e926c69",
        "colab": {
          "base_uri": "https://localhost:8080/",
          "height": 35
        }
      },
      "source": [
        "eng_dic['pineapple'] = '파인애플'\n",
        "\n",
        "print(eng_dic)"
      ],
      "execution_count": 0,
      "outputs": [
        {
          "output_type": "stream",
          "text": [
            "{'orange': '오렌지', 'strawberry': '딸기', 'apple': '사과', 'pineapple': '파인애플'}\n"
          ],
          "name": "stdout"
        }
      ]
    },
    {
      "cell_type": "markdown",
      "metadata": {
        "id": "B9_LECqQQ0ZR",
        "colab_type": "text"
      },
      "source": [
        "####a-2. 딕셔너리 값 제거"
      ]
    },
    {
      "cell_type": "code",
      "metadata": {
        "id": "BmmUPtR5Rds_",
        "colab_type": "code",
        "outputId": "d48159bb-a327-410c-fdb9-1d88b2f4092a",
        "colab": {
          "base_uri": "https://localhost:8080/",
          "height": 35
        }
      },
      "source": [
        "del eng_dic['orange'] \n",
        "\n",
        "print(eng_dic)"
      ],
      "execution_count": 0,
      "outputs": [
        {
          "output_type": "stream",
          "text": [
            "{'strawberry': '딸기', 'apple': '사과', 'pineapple': '파인애플'}\n"
          ],
          "name": "stdout"
        }
      ]
    },
    {
      "cell_type": "markdown",
      "metadata": {
        "id": "1SZJ5BoraZF9",
        "colab_type": "text"
      },
      "source": [
        "####b. key값으로 value 값 가져오기\n",
        "\n",
        "value값으로는 key값을 가져올 수 없습니다.\n",
        "\n",
        "그 말은 key값은 서로 중복되면 안되지만 value값은 중복되도 된다는 말입니다.\n"
      ]
    },
    {
      "cell_type": "code",
      "metadata": {
        "id": "WrpWVXlAaYJo",
        "colab_type": "code",
        "outputId": "154b231d-7784-4c45-d73c-9212fac73cd9",
        "colab": {
          "base_uri": "https://localhost:8080/",
          "height": 35
        }
      },
      "source": [
        "print(eng_dic['orange'])"
      ],
      "execution_count": 0,
      "outputs": [
        {
          "output_type": "stream",
          "text": [
            "오렌지\n"
          ],
          "name": "stdout"
        }
      ]
    },
    {
      "cell_type": "markdown",
      "metadata": {
        "id": "xQUmmMKXasBS",
        "colab_type": "text"
      },
      "source": [
        "Q. 'apple'의 value값을 출력해봅시다"
      ]
    },
    {
      "cell_type": "code",
      "metadata": {
        "id": "ZMk6fNY9aqXF",
        "colab_type": "code",
        "colab": {}
      },
      "source": [
        ""
      ],
      "execution_count": 0,
      "outputs": []
    },
    {
      "cell_type": "markdown",
      "metadata": {
        "id": "1CgFz8OHbgcV",
        "colab_type": "text"
      },
      "source": [
        "Q. 본인의 이름, 전화번호, 키를 이용하여 딕셔너리를 만들어보세요"
      ]
    },
    {
      "cell_type": "code",
      "metadata": {
        "id": "dxw4jdEsbaXc",
        "colab_type": "code",
        "colab": {}
      },
      "source": [
        ""
      ],
      "execution_count": 0,
      "outputs": []
    },
    {
      "cell_type": "markdown",
      "metadata": {
        "id": "7xFLnq4zbFtT",
        "colab_type": "text"
      },
      "source": [
        "#### c. value값으로 리스트 넣기\n",
        "\n"
      ]
    },
    {
      "cell_type": "code",
      "metadata": {
        "id": "DBjdNuYZbWBi",
        "colab_type": "code",
        "colab": {}
      },
      "source": [
        "a = [ '철수', '민수', '민지' ]\n",
        "b = [ '서울', '부산', '대전' ]\n",
        "c = [ 1, 2, 3, 4 ]\n",
        "contact = { '이름' : a, '지역' : b, '번호' : c }"
      ],
      "execution_count": 0,
      "outputs": []
    },
    {
      "cell_type": "code",
      "metadata": {
        "id": "kyhDBIPJbYNs",
        "colab_type": "code",
        "outputId": "eaafefbd-82f3-4b39-95e5-5d0662b8ca92",
        "colab": {
          "base_uri": "https://localhost:8080/",
          "height": 70
        }
      },
      "source": [
        "print(contact['이름'])\n",
        "print(contact['지역'])\n",
        "print(contact['번호'])"
      ],
      "execution_count": 0,
      "outputs": [
        {
          "output_type": "stream",
          "text": [
            "['철수', '민수', '민지']\n",
            "['서울', '부산', '대전']\n",
            "[1, 2, 3, 4]\n"
          ],
          "name": "stdout"
        }
      ]
    },
    {
      "cell_type": "markdown",
      "metadata": {
        "id": "HrCb3aO-b_1Y",
        "colab_type": "text"
      },
      "source": [
        "#### d. keys() 함수\n",
        "\n",
        "key 값만 모아서 리스트로 만들어줍니다."
      ]
    },
    {
      "cell_type": "code",
      "metadata": {
        "id": "bdKPVXQ9cIKb",
        "colab_type": "code",
        "outputId": "c791be26-d16e-49f5-a5d3-58849d2df038",
        "colab": {
          "base_uri": "https://localhost:8080/",
          "height": 35
        }
      },
      "source": [
        "a = {'이름':'Cho', '지역':'서울', 'phone': '010'}\n",
        "\n",
        "print(a.keys())"
      ],
      "execution_count": 0,
      "outputs": [
        {
          "output_type": "stream",
          "text": [
            "dict_keys(['이름', '지역', 'phone'])\n"
          ],
          "name": "stdout"
        }
      ]
    },
    {
      "cell_type": "markdown",
      "metadata": {
        "id": "5qM43nNhcZe4",
        "colab_type": "text"
      },
      "source": [
        "#### e. values() 함수\n",
        "\n",
        "value 값만 모아서 리스트로 만들어줍니다."
      ]
    },
    {
      "cell_type": "code",
      "metadata": {
        "id": "obuP9hBUcWBY",
        "colab_type": "code",
        "outputId": "2d7f7fb4-92b7-4baa-d283-4d5b333c0907",
        "colab": {
          "base_uri": "https://localhost:8080/",
          "height": 35
        }
      },
      "source": [
        "print(a.values())"
      ],
      "execution_count": 0,
      "outputs": [
        {
          "output_type": "stream",
          "text": [
            "dict_values(['Cho', '서울', '010'])\n"
          ],
          "name": "stdout"
        }
      ]
    },
    {
      "cell_type": "markdown",
      "metadata": {
        "id": "cV7rcDlIU7AS",
        "colab_type": "text"
      },
      "source": [
        "##7. 제어문(if)\n",
        "\n",
        "들여쓰기 중요!\n",
        "\n",
        "<pre>\n",
        "만약 ~라면 ~해라\n",
        "\n",
        "그게 아니라 ~라면 ~해라\n",
        "\n",
        "아니면 ~해라"
      ]
    },
    {
      "cell_type": "code",
      "metadata": {
        "id": "zdgBx82zVSgl",
        "colab_type": "code",
        "outputId": "3514732b-aa98-41db-cd5e-283fb10a995a",
        "colab": {
          "base_uri": "https://localhost:8080/",
          "height": 35
        }
      },
      "source": [
        "x=3\n",
        "y=5\n",
        "\n",
        "if x<y:\n",
        "  print('x는 y보다 작습니다')\n",
        "else:\n",
        "  print('x는 y보다 크거나 같습니다')"
      ],
      "execution_count": 0,
      "outputs": [
        {
          "output_type": "stream",
          "text": [
            "x는 y보다 작습니다\n"
          ],
          "name": "stdout"
        }
      ]
    },
    {
      "cell_type": "code",
      "metadata": {
        "id": "C1Y0fay_VrC4",
        "colab_type": "code",
        "outputId": "7964da13-d812-431f-cfd2-1596beaf5762",
        "colab": {
          "base_uri": "https://localhost:8080/",
          "height": 35
        }
      },
      "source": [
        "# 같니?\n",
        "\n",
        "x=3\n",
        "y=3\n",
        "\n",
        "if x<y:\n",
        "  print('x는 y보다 작습니다')\n",
        "elif x==y:                      # 같니?\n",
        "  print('x는 y와 같습니다')\n",
        "else:\n",
        "  print('x는 y보다 크거나 같습니다')"
      ],
      "execution_count": 0,
      "outputs": [
        {
          "output_type": "stream",
          "text": [
            "x는 y와 같습니다\n"
          ],
          "name": "stdout"
        }
      ]
    },
    {
      "cell_type": "code",
      "metadata": {
        "id": "YF3X8aU1WJKK",
        "colab_type": "code",
        "outputId": "290946fd-8901-4dbb-a946-7064ec883cc2",
        "colab": {
          "base_uri": "https://localhost:8080/",
          "height": 35
        }
      },
      "source": [
        "# 암묵적인 수의 범위\n",
        "\n",
        "money = 1000\n",
        "\n",
        "if money>10000:\n",
        "  print('음식점을 간다')\n",
        "elif money > 5000:   # 10000보다는 작고 5000보다 크다\n",
        "  print('떡볶이를 산다')\n",
        "else:\n",
        "  print('빵을 산다')"
      ],
      "execution_count": 0,
      "outputs": [
        {
          "output_type": "stream",
          "text": [
            "빵을 산다\n"
          ],
          "name": "stdout"
        }
      ]
    },
    {
      "cell_type": "code",
      "metadata": {
        "id": "pGKpkq8SWtUS",
        "colab_type": "code",
        "outputId": "ed66a7db-f609-4da2-8973-094ff4f005f3",
        "colab": {
          "base_uri": "https://localhost:8080/",
          "height": 35
        }
      },
      "source": [
        "# 문자열과 제어문\n",
        "\n",
        "word = '딸기'\n",
        "\n",
        "if word == '레몬':\n",
        "  print('너무 시다')\n",
        "elif word == '딸기':\n",
        "  print('맛있다')"
      ],
      "execution_count": 0,
      "outputs": [
        {
          "output_type": "stream",
          "text": [
            "맛있다\n"
          ],
          "name": "stdout"
        }
      ]
    },
    {
      "cell_type": "code",
      "metadata": {
        "id": "CHD8rvA8XCDZ",
        "colab_type": "code",
        "colab": {}
      },
      "source": [
        "# 리스트와 제어문\n",
        "\n",
        "bag = ['wallet', 'cellphone', 'notebook']\n",
        "\n",
        "if 'cellphone' in bag:\n",
        "  print('전화를 한다.')\n",
        "else:\n",
        "  print('전화를 빌린다.')"
      ],
      "execution_count": 0,
      "outputs": []
    },
    {
      "cell_type": "code",
      "metadata": {
        "id": "AuuDkh8LX_c4",
        "colab_type": "code",
        "outputId": "dfb31b9c-4606-47f4-ce4f-d0d311ac00ea",
        "colab": {
          "base_uri": "https://localhost:8080/",
          "height": 35
        }
      },
      "source": [
        "# 변수 대입과 제어문\n",
        "\n",
        "score = 80\n",
        "\n",
        "if score >= 70:\n",
        "  my_score = 'pass'\n",
        "else:\n",
        "  my_score = 'fail'\n",
        "\n",
        "print(score)"
      ],
      "execution_count": 0,
      "outputs": [
        {
          "output_type": "stream",
          "text": [
            "80\n"
          ],
          "name": "stdout"
        }
      ]
    },
    {
      "cell_type": "code",
      "metadata": {
        "id": "h4Ds9sdUYIKH",
        "colab_type": "code",
        "outputId": "705ef74b-5fd9-4c2f-a57c-5efcc8067e92",
        "colab": {
          "base_uri": "https://localhost:8080/",
          "height": 35
        }
      },
      "source": [
        "# and 와 or\n",
        "\n",
        "bread = '팥빵'\n",
        "drink = '물'\n",
        "\n",
        "if bread == '팥빵' and drink == '보리차':\n",
        "  print('안 먹어')\n",
        "elif bread == '팥빵' and drink == '물':\n",
        "  print('먹을래')"
      ],
      "execution_count": 0,
      "outputs": [
        {
          "output_type": "stream",
          "text": [
            "먹을래\n"
          ],
          "name": "stdout"
        }
      ]
    },
    {
      "cell_type": "code",
      "metadata": {
        "id": "WmuGTY-AZXLn",
        "colab_type": "code",
        "outputId": "147493d4-3be7-4d5d-c2ac-278e24064188",
        "colab": {
          "base_uri": "https://localhost:8080/",
          "height": 35
        }
      },
      "source": [
        "# and 와 or\n",
        "\n",
        "bread = '고로케'\n",
        "drink = '보리차'\n",
        "\n",
        "if bread == '고로케' or drink == '보리차':\n",
        "  print('안 먹어')\n",
        "else:\n",
        "  print('먹을래')\n",
        "\n",
        "  "
      ],
      "execution_count": 0,
      "outputs": [
        {
          "output_type": "stream",
          "text": [
            "안 먹어\n"
          ],
          "name": "stdout"
        }
      ]
    },
    {
      "cell_type": "code",
      "metadata": {
        "id": "NG8BgqczZnlW",
        "colab_type": "code",
        "colab": {}
      },
      "source": [
        ""
      ],
      "execution_count": 0,
      "outputs": []
    }
  ]
}